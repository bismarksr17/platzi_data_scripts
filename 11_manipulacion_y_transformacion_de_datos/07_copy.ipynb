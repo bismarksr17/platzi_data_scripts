{
 "cells": [
  {
   "cell_type": "code",
   "execution_count": 21,
   "id": "f01b30a2-bce1-4e97-95d2-3d48b96800bb",
   "metadata": {},
   "outputs": [],
   "source": [
    "import numpy as np"
   ]
  },
  {
   "cell_type": "code",
   "execution_count": 29,
   "id": "9afef8dd-b727-4251-9dc5-87f5de6e8a6f",
   "metadata": {},
   "outputs": [
    {
     "data": {
      "text/plain": [
       "array([ 1,  2,  3,  4,  5,  6,  7,  8,  9, 10])"
      ]
     },
     "execution_count": 29,
     "metadata": {},
     "output_type": "execute_result"
    }
   ],
   "source": [
    "# CREAMOS UN ARRAY\n",
    "arr = np.arange(1,11)\n",
    "arr"
   ]
  },
  {
   "cell_type": "code",
   "execution_count": 30,
   "id": "d9710b71-712a-4cef-ba42-bde4f1d58e84",
   "metadata": {},
   "outputs": [
    {
     "data": {
      "text/plain": [
       "array([1, 2, 3, 4, 5])"
      ]
     },
     "execution_count": 30,
     "metadata": {},
     "output_type": "execute_result"
    }
   ],
   "source": [
    "# SLICE DE UNA PARTE DEL ARRAY\n",
    "pedaso_arr = arr[0:5]\n",
    "pedaso_arr"
   ]
  },
  {
   "cell_type": "code",
   "execution_count": 31,
   "id": "8bc413da-7c74-4b8d-a2fd-22f49cb54f33",
   "metadata": {},
   "outputs": [
    {
     "data": {
      "text/plain": [
       "array([3, 3, 3, 3, 3])"
      ]
     },
     "execution_count": 31,
     "metadata": {},
     "output_type": "execute_result"
    }
   ],
   "source": [
    "# MODIFICAMOS EL SLICE\n",
    "pedaso_arr[:] = 3\n",
    "pedaso_arr"
   ]
  },
  {
   "cell_type": "code",
   "execution_count": 32,
   "id": "c8c32421-4849-45a9-9d9d-08c2a90e7523",
   "metadata": {},
   "outputs": [
    {
     "data": {
      "text/plain": [
       "array([ 3,  3,  3,  3,  3,  6,  7,  8,  9, 10])"
      ]
     },
     "execution_count": 32,
     "metadata": {},
     "output_type": "execute_result"
    }
   ],
   "source": [
    "# EL ARRAY ORRIGINAL SE MODIFFICO\n",
    "arr"
   ]
  },
  {
   "cell_type": "code",
   "execution_count": 43,
   "id": "e4a15fb3-e049-43d2-9e65-2c434b72a219",
   "metadata": {},
   "outputs": [
    {
     "data": {
      "text/plain": [
       "array([ 1,  2,  3,  4,  5,  6,  7,  8,  9, 10])"
      ]
     },
     "execution_count": 43,
     "metadata": {},
     "output_type": "execute_result"
    }
   ],
   "source": [
    "# VOLVEMOS A CREAR EL ARRAY\n",
    "arr = np.arange(1,11)\n",
    "arr"
   ]
  },
  {
   "cell_type": "code",
   "execution_count": 44,
   "id": "1839bfdf-e4b4-40bc-907f-1f9c61ec981b",
   "metadata": {},
   "outputs": [
    {
     "data": {
      "text/plain": [
       "array([ 1,  2,  3,  4,  5,  6,  7,  8,  9, 10])"
      ]
     },
     "execution_count": 44,
     "metadata": {},
     "output_type": "execute_result"
    }
   ],
   "source": [
    "# SE TIENE QUE HACER UN COPPY PARA QUE LAS MODIFICACIONES NO ALTEREN LAS ARRAY ORIGINAL\n",
    "arr_copy = arr.copy()\n",
    "arr_copy"
   ]
  },
  {
   "cell_type": "code",
   "execution_count": 45,
   "id": "ddeb9822-55ef-4f64-b54c-f24456329c51",
   "metadata": {},
   "outputs": [
    {
     "data": {
      "text/plain": [
       "array([1, 2, 3, 4, 5])"
      ]
     },
     "execution_count": 45,
     "metadata": {},
     "output_type": "execute_result"
    }
   ],
   "source": [
    "# HACEMOS SLICE\n",
    "pedaso_arr = arr_copy[0:5]\n",
    "pedaso_arr"
   ]
  },
  {
   "cell_type": "code",
   "execution_count": 46,
   "id": "08748a50-9e9e-4376-b5b7-00bef12c3a5e",
   "metadata": {},
   "outputs": [
    {
     "data": {
      "text/plain": [
       "array([3, 3, 3, 3, 3])"
      ]
     },
     "execution_count": 46,
     "metadata": {},
     "output_type": "execute_result"
    }
   ],
   "source": [
    "# MODIFICAMOS EL EL SLICE\n",
    "pedaso_arr[:] = 3\n",
    "pedaso_arr"
   ]
  },
  {
   "cell_type": "code",
   "execution_count": 48,
   "id": "b7bc5648-3aea-4b26-a2a0-7e281625dc15",
   "metadata": {},
   "outputs": [
    {
     "data": {
      "text/plain": [
       "array([ 1,  2,  3,  4,  5,  6,  7,  8,  9, 10])"
      ]
     },
     "execution_count": 48,
     "metadata": {},
     "output_type": "execute_result"
    }
   ],
   "source": [
    "# ARR NO SUFRE CAMBIO\n",
    "arr"
   ]
  },
  {
   "cell_type": "code",
   "execution_count": null,
   "id": "432d0936-1506-4aee-bd75-edc3a416cd6c",
   "metadata": {},
   "outputs": [],
   "source": []
  }
 ],
 "metadata": {
  "kernelspec": {
   "display_name": "Python 3 (ipykernel)",
   "language": "python",
   "name": "python3"
  },
  "language_info": {
   "codemirror_mode": {
    "name": "ipython",
    "version": 3
   },
   "file_extension": ".py",
   "mimetype": "text/x-python",
   "name": "python",
   "nbconvert_exporter": "python",
   "pygments_lexer": "ipython3",
   "version": "3.10.4"
  }
 },
 "nbformat": 4,
 "nbformat_minor": 5
}
