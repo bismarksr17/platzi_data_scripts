{
 "cells": [
  {
   "cell_type": "code",
   "execution_count": 1,
   "id": "0e309ef9-9598-4e27-8dbc-846e4aab19b3",
   "metadata": {},
   "outputs": [],
   "source": [
    "import numpy as np"
   ]
  },
  {
   "cell_type": "code",
   "execution_count": 32,
   "id": "1aab8842-81cf-4674-99e3-21bd513da887",
   "metadata": {},
   "outputs": [],
   "source": [
    "# LISTA NORMAL\n",
    "lista = [1, 2, 3]"
   ]
  },
  {
   "cell_type": "code",
   "execution_count": 33,
   "id": "2c797f16-1bc5-4d8a-a03e-7b00c477becf",
   "metadata": {},
   "outputs": [
    {
     "data": {
      "text/plain": [
       "[1, 2, 3, 1, 2, 3]"
      ]
     },
     "execution_count": 33,
     "metadata": {},
     "output_type": "execute_result"
    }
   ],
   "source": [
    "# AL MULTIPLICAR PRO DOS, SE DUPLICAN LOS ELEMENTOS\n",
    "lista * 2"
   ]
  },
  {
   "cell_type": "code",
   "execution_count": 34,
   "id": "a5443b8e-efc6-4a97-9014-5318cf187c67",
   "metadata": {},
   "outputs": [
    {
     "data": {
      "text/plain": [
       "array([0, 1, 2, 3, 4, 5, 6, 7, 8, 9])"
      ]
     },
     "execution_count": 34,
     "metadata": {},
     "output_type": "execute_result"
    }
   ],
   "source": [
    "# CREAMOS UN ARRAY\n",
    "arr = np.arange(0,10)\n",
    "arr"
   ]
  },
  {
   "cell_type": "code",
   "execution_count": 35,
   "id": "43d8e168-3d28-4138-bff3-51464031db9c",
   "metadata": {},
   "outputs": [
    {
     "data": {
      "text/plain": [
       "array([ 0,  2,  4,  6,  8, 10, 12, 14, 16, 18])"
      ]
     },
     "execution_count": 35,
     "metadata": {},
     "output_type": "execute_result"
    }
   ],
   "source": [
    "# MULTIPLICAMOS POR 2, LOS VALORES DEL ARRAY SE MULTIPLICAR POR 2\n",
    "arr * 2"
   ]
  },
  {
   "cell_type": "code",
   "execution_count": 36,
   "id": "4d2694ba-26ab-4518-b9da-1785b6c9e9be",
   "metadata": {},
   "outputs": [
    {
     "name": "stderr",
     "output_type": "stream",
     "text": [
      "/tmp/ipykernel_172/2216946649.py:3: RuntimeWarning: divide by zero encountered in true_divide\n",
      "  1 / arr\n"
     ]
    },
    {
     "data": {
      "text/plain": [
       "array([       inf, 1.        , 0.5       , 0.33333333, 0.25      ,\n",
       "       0.2       , 0.16666667, 0.14285714, 0.125     , 0.11111111])"
      ]
     },
     "execution_count": 36,
     "metadata": {},
     "output_type": "execute_result"
    }
   ],
   "source": [
    "# TODOS LOS ARRAY IGUAL A 1/VALOR, SI HAY VALOR CERO, SALE UNA ALERTA, \n",
    "# NO SE DETIENE LA OPERACION\n",
    "1 / arr"
   ]
  },
  {
   "cell_type": "code",
   "execution_count": 37,
   "id": "563815a9-7f6d-4aea-8c9e-79e9fdcd103c",
   "metadata": {},
   "outputs": [
    {
     "data": {
      "text/plain": [
       "array([ 0,  2,  4,  6,  8, 10, 12, 14, 16, 18])"
      ]
     },
     "execution_count": 37,
     "metadata": {},
     "output_type": "execute_result"
    }
   ],
   "source": [
    "# CREO OTRO ARRAY\n",
    "arr_2 = np.arange(0, 20, 2)\n",
    "arr_2"
   ]
  },
  {
   "cell_type": "code",
   "execution_count": 38,
   "id": "bf270808-3253-4d94-a89e-db93579df521",
   "metadata": {},
   "outputs": [
    {
     "data": {
      "text/plain": [
       "array([ 0,  3,  6,  9, 12, 15, 18, 21, 24, 27])"
      ]
     },
     "execution_count": 38,
     "metadata": {},
     "output_type": "execute_result"
    }
   ],
   "source": [
    "# SUMA DE ARRAY,\n",
    "# AL HACER OPERACIONES ARITMETICAS, LOS ARRAYS TIENEN QUE SER DE IGUAL DIMENCION\n",
    "arr + arr_2"
   ]
  },
  {
   "cell_type": "code",
   "execution_count": 39,
   "id": "f7023795-6789-4d6f-b3c4-e6901bbab344",
   "metadata": {},
   "outputs": [
    {
     "data": {
      "text/plain": [
       "array([ 0, -1, -2, -3, -4, -5, -6, -7, -8, -9])"
      ]
     },
     "execution_count": 39,
     "metadata": {},
     "output_type": "execute_result"
    }
   ],
   "source": [
    "# RESTA DE ARRAYS\n",
    "arr - arr_2"
   ]
  },
  {
   "cell_type": "code",
   "execution_count": 40,
   "id": "fdfd84d2-e7fe-4f52-b2cd-a5bde930e0d2",
   "metadata": {},
   "outputs": [
    {
     "data": {
      "text/plain": [
       "array([  0,   2,   8,  18,  32,  50,  72,  98, 128, 162])"
      ]
     },
     "execution_count": 40,
     "metadata": {},
     "output_type": "execute_result"
    }
   ],
   "source": [
    "# MULTIPLICAION DE ARRAYS\n",
    "arr * arr_2"
   ]
  },
  {
   "cell_type": "markdown",
   "id": "9d01a47c-0f45-4454-bff8-8157a3a0e773",
   "metadata": {},
   "source": [
    "## Producto Punto"
   ]
  },
  {
   "cell_type": "code",
   "execution_count": 41,
   "id": "e0bd7b33-d433-4a32-bbfd-6e02fb626e12",
   "metadata": {},
   "outputs": [
    {
     "data": {
      "text/plain": [
       "array([0, 1, 2, 3, 4, 5, 6, 7, 8, 9])"
      ]
     },
     "execution_count": 41,
     "metadata": {},
     "output_type": "execute_result"
    }
   ],
   "source": [
    "arr"
   ]
  },
  {
   "cell_type": "code",
   "execution_count": 42,
   "id": "88d84657-b92a-42ef-a825-befd3b53fa73",
   "metadata": {},
   "outputs": [
    {
     "data": {
      "text/plain": [
       "array([[0, 1, 2, 3, 4],\n",
       "       [5, 6, 7, 8, 9]])"
      ]
     },
     "execution_count": 42,
     "metadata": {},
     "output_type": "execute_result"
    }
   ],
   "source": [
    "# REDIMENCIONAMOS EL ARRAY, OPTENEMOS UNA MATRIZ\n",
    "matriz = arr.reshape(2,5)\n",
    "matriz"
   ]
  },
  {
   "cell_type": "code",
   "execution_count": 43,
   "id": "4af1a8d0-29a3-4be5-acf1-51b436b79b4a",
   "metadata": {},
   "outputs": [
    {
     "data": {
      "text/plain": [
       "array([[ 0,  2],\n",
       "       [ 4,  6],\n",
       "       [ 8, 10],\n",
       "       [12, 14],\n",
       "       [16, 18]])"
      ]
     },
     "execution_count": 43,
     "metadata": {},
     "output_type": "execute_result"
    }
   ],
   "source": [
    "# REDIMENCIONAMMOS EL SEGUNDO ARRAY, A UNA DIMENION OPUESTA AL ARRAY 1\n",
    "matriz_2 = arr_2.reshape(5,2)\n",
    "matriz_2"
   ]
  },
  {
   "cell_type": "code",
   "execution_count": 44,
   "id": "c185bed3-bd83-4f2c-b9df-d6848665c44f",
   "metadata": {},
   "outputs": [
    {
     "data": {
      "text/plain": [
       "array([[120, 140],\n",
       "       [320, 390]])"
      ]
     },
     "execution_count": 44,
     "metadata": {},
     "output_type": "execute_result"
    }
   ],
   "source": [
    "# PRODUCTO PUNTO\n",
    "np.matmul(matriz, matriz_2)"
   ]
  },
  {
   "cell_type": "code",
   "execution_count": 45,
   "id": "7e82953d-9ba1-4f1f-ac57-b295299964cb",
   "metadata": {},
   "outputs": [
    {
     "data": {
      "text/plain": [
       "array([[120, 140],\n",
       "       [320, 390]])"
      ]
     },
     "execution_count": 45,
     "metadata": {},
     "output_type": "execute_result"
    }
   ],
   "source": [
    "# OTRA FORMA DE CALCULAR EL PRODUCTO PUNTO\n",
    "matriz @ matriz_2"
   ]
  }
 ],
 "metadata": {
  "kernelspec": {
   "display_name": "Python 3 (ipykernel)",
   "language": "python",
   "name": "python3"
  },
  "language_info": {
   "codemirror_mode": {
    "name": "ipython",
    "version": 3
   },
   "file_extension": ".py",
   "mimetype": "text/x-python",
   "name": "python",
   "nbconvert_exporter": "python",
   "pygments_lexer": "ipython3",
   "version": "3.9.12"
  }
 },
 "nbformat": 4,
 "nbformat_minor": 5
}
