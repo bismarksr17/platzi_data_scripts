{
 "cells": [
  {
   "cell_type": "code",
   "execution_count": 29,
   "id": "0d9f30b8-0107-4f6b-9f88-68fa9427d532",
   "metadata": {},
   "outputs": [],
   "source": [
    "import numpy as np"
   ]
  },
  {
   "cell_type": "code",
   "execution_count": 30,
   "id": "89564636-e518-442d-9964-25b896d3ad0b",
   "metadata": {},
   "outputs": [
    {
     "data": {
      "text/plain": [
       "array([ 1,  2,  3,  4,  5,  6,  7,  8,  9, 10], dtype=int8)"
      ]
     },
     "execution_count": 30,
     "metadata": {},
     "output_type": "execute_result"
    }
   ],
   "source": [
    "# CREAMOS ARRAY\n",
    "arr = np.linspace(1,10,10,dtype='int8')\n",
    "arr"
   ]
  },
  {
   "cell_type": "code",
   "execution_count": 31,
   "id": "a88cc518-b158-49e5-ac93-f8ccad988eec",
   "metadata": {},
   "outputs": [
    {
     "data": {
      "text/plain": [
       "array([False, False, False, False, False,  True,  True,  True,  True,\n",
       "        True])"
      ]
     },
     "execution_count": 31,
     "metadata": {},
     "output_type": "execute_result"
    }
   ],
   "source": [
    "# SE CREA UNA CONDICION, SE GENERA UN ARRAY DE BOOLEANOS\n",
    "condicion = arr > 5\n",
    "condicion"
   ]
  },
  {
   "cell_type": "code",
   "execution_count": 32,
   "id": "8708dd78-1e80-4e58-b67e-a29eb814534b",
   "metadata": {},
   "outputs": [
    {
     "data": {
      "text/plain": [
       "array([ 6,  7,  8,  9, 10], dtype=int8)"
      ]
     },
     "execution_count": 32,
     "metadata": {},
     "output_type": "execute_result"
    }
   ],
   "source": [
    "# FILTRAR EL ARRAY CON CON CONDICION BOOLEANA\n",
    "arr[condicion]"
   ]
  },
  {
   "cell_type": "code",
   "execution_count": 33,
   "id": "d588dad5-0a1c-4816-be9b-694c694930f1",
   "metadata": {},
   "outputs": [
    {
     "data": {
      "text/plain": [
       "array([ 6,  7,  8,  9, 10], dtype=int8)"
      ]
     },
     "execution_count": 33,
     "metadata": {},
     "output_type": "execute_result"
    }
   ],
   "source": [
    "# SE PUEDE APLICAR LA CONDICION DIRECTO ENTRE CORCHETES, COMO INDEX O SLICE\n",
    "arr[arr>5]"
   ]
  },
  {
   "cell_type": "code",
   "execution_count": 34,
   "id": "78acd0da-8be2-4d2d-a537-2d27bf3c2faf",
   "metadata": {},
   "outputs": [
    {
     "data": {
      "text/plain": [
       "array([6, 7, 8], dtype=int8)"
      ]
     },
     "execution_count": 34,
     "metadata": {},
     "output_type": "execute_result"
    }
   ],
   "source": [
    "# DOBLE CONDICION\n",
    "arr[(arr>5) & (arr<9)]"
   ]
  },
  {
   "cell_type": "code",
   "execution_count": 35,
   "id": "1c402f08-1d82-43b2-b9d5-526396c162bc",
   "metadata": {},
   "outputs": [
    {
     "data": {
      "text/plain": [
       "array([ 1,  2,  3,  4,  5, 99, 99, 99, 99, 99], dtype=int8)"
      ]
     },
     "execution_count": 35,
     "metadata": {},
     "output_type": "execute_result"
    }
   ],
   "source": [
    "# CODIFICAR LOS VALORES QUE CUMPLAN CON LA CONDICION\n",
    "arr[arr>5] = 99\n",
    "arr"
   ]
  },
  {
   "cell_type": "code",
   "execution_count": 36,
   "id": "edb9ad1e-1c6d-4fe6-9441-65b746d09c81",
   "metadata": {},
   "outputs": [
    {
     "data": {
      "text/plain": [
       "array([99, 99, 99, 99, 99], dtype=int8)"
      ]
     },
     "execution_count": 36,
     "metadata": {},
     "output_type": "execute_result"
    }
   ],
   "source": [
    "# FILTRAR POR CONDICION DE IGUALDAD\n",
    "arr[arr==99]"
   ]
  },
  {
   "cell_type": "code",
   "execution_count": 37,
   "id": "837b3653-066a-476d-8b5f-252bc0c489c0",
   "metadata": {},
   "outputs": [
    {
     "data": {
      "text/plain": [
       "array([0, 0, 0, 0, 0, 1, 1, 1, 1, 1])"
      ]
     },
     "execution_count": 37,
     "metadata": {},
     "output_type": "execute_result"
    }
   ],
   "source": [
    "# WHERE(CONDICION, VALOR SI SE CUMPLE LA CONDICION, VALOR SI NO SE CUMPLE LA FUNCION)\n",
    "np.where(arr==99,1,0)"
   ]
  }
 ],
 "metadata": {
  "kernelspec": {
   "display_name": "Python 3 (ipykernel)",
   "language": "python",
   "name": "python3"
  },
  "language_info": {
   "codemirror_mode": {
    "name": "ipython",
    "version": 3
   },
   "file_extension": ".py",
   "mimetype": "text/x-python",
   "name": "python",
   "nbconvert_exporter": "python",
   "pygments_lexer": "ipython3",
   "version": "3.10.4"
  }
 },
 "nbformat": 4,
 "nbformat_minor": 5
}
