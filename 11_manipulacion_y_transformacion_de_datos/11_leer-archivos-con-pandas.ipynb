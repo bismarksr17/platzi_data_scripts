{
 "cells": [
  {
   "cell_type": "code",
   "execution_count": 2,
   "id": "4f0eac08-8721-4311-a710-7341049683e3",
   "metadata": {},
   "outputs": [],
   "source": [
    "import pandas as pd"
   ]
  },
  {
   "cell_type": "code",
   "execution_count": null,
   "id": "412c071a-d824-4946-8020-0db45696e665",
   "metadata": {},
   "outputs": [],
   "source": [
    "# LEER CSV\n",
    "# sep (SEPARADOR)\n",
    "# header (INDICE DE FILA DONDE SE ENCUENTRA LAS CABECERA DE LAS COLUMNAS)\n",
    "df = pd.read_csv('csv.csv', sep='|', header=0, names=[])\n",
    "df"
   ]
  },
  {
   "cell_type": "code",
   "execution_count": null,
   "id": "2eb62678-2866-43c0-afa3-6b43fe921222",
   "metadata": {},
   "outputs": [],
   "source": [
    "# LEER JSON\n",
    "df = pd.read_json('json.json')\n",
    "df"
   ]
  },
  {
   "cell_type": "code",
   "execution_count": null,
   "id": "a3e4412f-c9cf-4f7a-bcc0-ac5b2a543439",
   "metadata": {},
   "outputs": [],
   "source": [
    "# LEER UN JSON, FORMATO RAW (LLAVE - VALOR)\n",
    "df = pd.read_json('json.json', typ='Series')\n",
    "df"
   ]
  },
  {
   "cell_type": "code",
   "execution_count": null,
   "id": "e3433c70-98d8-4fe2-ae9c-2c0732a70cb5",
   "metadata": {},
   "outputs": [],
   "source": [
    "# PARA MAS DATASETS:\n",
    "# https://www.kaggle.com"
   ]
  },
  {
   "cell_type": "code",
   "execution_count": null,
   "id": "6f80a382-2504-45a4-ad29-f125e3be9ce4",
   "metadata": {},
   "outputs": [],
   "source": []
  },
  {
   "cell_type": "code",
   "execution_count": null,
   "id": "3bb3c2be-61b2-4677-a858-db61e875f266",
   "metadata": {},
   "outputs": [],
   "source": []
  },
  {
   "cell_type": "code",
   "execution_count": null,
   "id": "938228a3-249b-49f7-bd60-2113a38b0978",
   "metadata": {},
   "outputs": [],
   "source": []
  },
  {
   "cell_type": "code",
   "execution_count": null,
   "id": "bb266660-f284-460b-a32a-0de2857532ec",
   "metadata": {},
   "outputs": [],
   "source": []
  },
  {
   "cell_type": "code",
   "execution_count": null,
   "id": "5f79ca62-35f4-4d6d-a705-d48d370e8ef0",
   "metadata": {},
   "outputs": [],
   "source": []
  },
  {
   "cell_type": "code",
   "execution_count": null,
   "id": "03e3e4de-05f8-4486-b1fb-4cbae330a2ca",
   "metadata": {},
   "outputs": [],
   "source": []
  },
  {
   "cell_type": "code",
   "execution_count": null,
   "id": "168607e7-8fbf-4651-96c7-d4b121c47072",
   "metadata": {},
   "outputs": [],
   "source": []
  },
  {
   "cell_type": "code",
   "execution_count": null,
   "id": "f6d96899-3847-40be-b318-1c151174c930",
   "metadata": {},
   "outputs": [],
   "source": []
  }
 ],
 "metadata": {
  "kernelspec": {
   "display_name": "Python 3 (ipykernel)",
   "language": "python",
   "name": "python3"
  },
  "language_info": {
   "codemirror_mode": {
    "name": "ipython",
    "version": 3
   },
   "file_extension": ".py",
   "mimetype": "text/x-python",
   "name": "python",
   "nbconvert_exporter": "python",
   "pygments_lexer": "ipython3",
   "version": "3.9.12"
  }
 },
 "nbformat": 4,
 "nbformat_minor": 5
}
