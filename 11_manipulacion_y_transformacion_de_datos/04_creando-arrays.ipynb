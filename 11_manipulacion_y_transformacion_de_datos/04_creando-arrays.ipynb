{
 "cells": [
  {
   "cell_type": "code",
   "execution_count": 1,
   "id": "a92aa7d7-ccf3-4dbd-bf43-47673de911ea",
   "metadata": {},
   "outputs": [],
   "source": [
    "import numpy as np"
   ]
  },
  {
   "cell_type": "code",
   "execution_count": null,
   "id": "f3cced2d-56e7-46be-bf21-4067d2acec4b",
   "metadata": {},
   "outputs": [],
   "source": []
  },
  {
   "cell_type": "code",
   "execution_count": 6,
   "id": "d79486fa-433b-4a37-8afa-cccb0b7ffa92",
   "metadata": {},
   "outputs": [
    {
     "data": {
      "text/plain": [
       "array([ 0,  2,  4,  6,  8, 10, 12, 14, 16, 18])"
      ]
     },
     "execution_count": 6,
     "metadata": {},
     "output_type": "execute_result"
    }
   ],
   "source": [
    "# CREAR SECUENCIA DE NUMERO\n",
    "arr = np.arange(0,20,2)\n",
    "arr"
   ]
  },
  {
   "cell_type": "code",
   "execution_count": null,
   "id": "81460f73-7ff7-46e1-88a6-81f3eeb4d317",
   "metadata": {},
   "outputs": [],
   "source": []
  },
  {
   "cell_type": "code",
   "execution_count": 13,
   "id": "a0989fc7-da17-478c-8960-b43bfad654e4",
   "metadata": {},
   "outputs": [
    {
     "data": {
      "text/plain": [
       "array([0., 0., 0.])"
      ]
     },
     "execution_count": 13,
     "metadata": {},
     "output_type": "execute_result"
    }
   ],
   "source": [
    "# GENERAR CEROS\n",
    "ceros = np.zeros(3)\n",
    "ceros"
   ]
  },
  {
   "cell_type": "code",
   "execution_count": 14,
   "id": "eda95fbe-e1a4-4094-a3da-81c06a238017",
   "metadata": {},
   "outputs": [
    {
     "data": {
      "text/plain": [
       "array([[0., 0., 0.],\n",
       "       [0., 0., 0.],\n",
       "       [0., 0., 0.]])"
      ]
     },
     "execution_count": 14,
     "metadata": {},
     "output_type": "execute_result"
    }
   ],
   "source": [
    "# GENERAR CEROS ES UTIL PARA TENER ARRAYS CON DIMENCIONES YA CONOCIDAS\n",
    "# PERO QUE NO SE SABE AUN SUS DATOS\n",
    "ceros = np.zeros((3,3))\n",
    "ceros"
   ]
  },
  {
   "cell_type": "code",
   "execution_count": 18,
   "id": "057253b6-5fe9-4822-9d89-2e78151b1401",
   "metadata": {},
   "outputs": [
    {
     "data": {
      "text/plain": [
       "array([[1., 1., 1., 1.],\n",
       "       [1., 1., 1., 1.],\n",
       "       [1., 1., 1., 1.],\n",
       "       [1., 1., 1., 1.]])"
      ]
     },
     "execution_count": 18,
     "metadata": {},
     "output_type": "execute_result"
    }
   ],
   "source": [
    "# TAMBIEN SE PUEDE GENERAR ARRAYS DE SOLO UNOS\n",
    "unos = np.ones((4,4))\n",
    "unos"
   ]
  },
  {
   "cell_type": "code",
   "execution_count": 19,
   "id": "4bd9cc69-cd22-42fd-b846-b34493faa887",
   "metadata": {},
   "outputs": [
    {
     "data": {
      "text/plain": [
       "array([ 0.        ,  0.52631579,  1.05263158,  1.57894737,  2.10526316,\n",
       "        2.63157895,  3.15789474,  3.68421053,  4.21052632,  4.73684211,\n",
       "        5.26315789,  5.78947368,  6.31578947,  6.84210526,  7.36842105,\n",
       "        7.89473684,  8.42105263,  8.94736842,  9.47368421, 10.        ])"
      ]
     },
     "execution_count": 19,
     "metadata": {},
     "output_type": "execute_result"
    }
   ],
   "source": [
    "# CREA UNA CANTIDAD DEFINIDA DE NUEMROS EN UN RANGO\n",
    "# 20 VALORES EQUIDISTANTES, ENTRE 0 Y 10\n",
    "rango_distribuido = np.linspace(0, 10, 20)\n",
    "rango_distribuido"
   ]
  },
  {
   "cell_type": "code",
   "execution_count": 22,
   "id": "efda88ce-ca6b-4bfa-b96f-98e64c419745",
   "metadata": {},
   "outputs": [
    {
     "data": {
      "text/plain": [
       "array([[1., 0., 0., 0.],\n",
       "       [0., 1., 0., 0.],\n",
       "       [0., 0., 1., 0.],\n",
       "       [0., 0., 0., 1.]])"
      ]
     },
     "execution_count": 22,
     "metadata": {},
     "output_type": "execute_result"
    }
   ],
   "source": [
    "# UTIL EN ALGEBRA LINEAL\n",
    "# DIAGONAL DE SOLO UNOS\n",
    "diagonal = np.eye(4)\n",
    "diagonal"
   ]
  },
  {
   "cell_type": "code",
   "execution_count": 118,
   "id": "302f1536-be2a-426c-b4c3-06ea876b1721",
   "metadata": {},
   "outputs": [
    {
     "data": {
      "text/plain": [
       "0.17142781324509082"
      ]
     },
     "execution_count": 118,
     "metadata": {},
     "output_type": "execute_result"
    }
   ],
   "source": [
    "# GENERAR UN RANDOM DECIMAL\n",
    "random = np.random.rand()\n",
    "random"
   ]
  },
  {
   "cell_type": "code",
   "execution_count": 119,
   "id": "558ee70e-6727-44aa-910c-bf055652d416",
   "metadata": {},
   "outputs": [
    {
     "data": {
      "text/plain": [
       "array([0.25453838, 0.98938098, 0.77882138, 0.13267176, 0.82292123])"
      ]
     },
     "execution_count": 119,
     "metadata": {},
     "output_type": "execute_result"
    }
   ],
   "source": [
    "# GENERA UN VECTOR CON ELEMENTOS RANDOM DECIMALES\n",
    "arr = np.random.rand(5)\n",
    "arr"
   ]
  },
  {
   "cell_type": "code",
   "execution_count": 120,
   "id": "78da935b-4470-4d11-8a7d-f3df7dc39521",
   "metadata": {},
   "outputs": [
    {
     "data": {
      "text/plain": [
       "array([[0.10782101, 0.22209647, 0.46813697, 0.97611851],\n",
       "       [0.3637563 , 0.66607912, 0.03291788, 0.23128132],\n",
       "       [0.23512316, 0.40263159, 0.14068439, 0.57516645],\n",
       "       [0.65798546, 0.17364183, 0.41325675, 0.21443117]])"
      ]
     },
     "execution_count": 120,
     "metadata": {},
     "output_type": "execute_result"
    }
   ],
   "source": [
    "# GENERA UNA MATRIZ CON ELEMRNTOS RANDOM DECIMALES\n",
    "matriz = np.random.rand(4,4)\n",
    "matriz"
   ]
  },
  {
   "cell_type": "code",
   "execution_count": 121,
   "id": "666e4709-a3e9-414a-ba3c-bfd6c82542ce",
   "metadata": {},
   "outputs": [
    {
     "data": {
      "text/plain": [
       "10"
      ]
     },
     "execution_count": 121,
     "metadata": {},
     "output_type": "execute_result"
    }
   ],
   "source": [
    "# GENERA UN RANDOM ENTRERO\n",
    "random_entero = np.random.randint(0,20)\n",
    "random_entero"
   ]
  },
  {
   "cell_type": "code",
   "execution_count": 122,
   "id": "939bcd71-1a2a-447f-b9c2-4478aac11c15",
   "metadata": {},
   "outputs": [
    {
     "data": {
      "text/plain": [
       "array([[12,  6,  7, 11, 15, 11,  9,  0,  8,  6],\n",
       "       [ 2,  5,  8, 10,  6, 15, 13, 16,  4,  5],\n",
       "       [11, 10, 15, 10,  2, 18,  0,  9, 10, 11],\n",
       "       [18, 13,  9,  6,  3, 19, 10,  3,  0, 16],\n",
       "       [ 0, 17,  9, 15,  3,  2, 19, 11,  9, 10],\n",
       "       [ 4,  4, 19, 11, 13,  4, 11,  7, 10, 12],\n",
       "       [19,  7, 14,  5,  4, 14, 16, 17, 11,  9],\n",
       "       [10, 13,  1,  3,  7, 10, 19, 13, 13, 17],\n",
       "       [ 9,  4, 16,  3,  5,  2, 13, 17,  2,  5],\n",
       "       [11, 17, 10, 19, 19,  4, 11,  1, 15, 10]])"
      ]
     },
     "execution_count": 122,
     "metadata": {},
     "output_type": "execute_result"
    }
   ],
   "source": [
    "# GENERA UNA MATRIZ CON ELEMENTOS RANDOM ENTEROS\n",
    "matriz_random_entero = np.random.randint(0,20,(10,10))\n",
    "matriz_random_entero"
   ]
  },
  {
   "cell_type": "code",
   "execution_count": null,
   "id": "d6be71ef-48dc-443f-91c5-805a6f86ea2d",
   "metadata": {},
   "outputs": [],
   "source": []
  },
  {
   "cell_type": "code",
   "execution_count": null,
   "id": "c92ebfe5-918e-41b7-b95f-3edeae2b374f",
   "metadata": {},
   "outputs": [],
   "source": []
  }
 ],
 "metadata": {
  "kernelspec": {
   "display_name": "Python 3 (ipykernel)",
   "language": "python",
   "name": "python3"
  },
  "language_info": {
   "codemirror_mode": {
    "name": "ipython",
    "version": 3
   },
   "file_extension": ".py",
   "mimetype": "text/x-python",
   "name": "python",
   "nbconvert_exporter": "python",
   "pygments_lexer": "ipython3",
   "version": "3.10.4"
  }
 },
 "nbformat": 4,
 "nbformat_minor": 5
}
