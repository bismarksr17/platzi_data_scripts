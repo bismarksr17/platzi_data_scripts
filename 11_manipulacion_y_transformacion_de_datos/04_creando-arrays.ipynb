{
 "cells": [
  {
   "cell_type": "code",
   "execution_count": 2,
   "id": "a92aa7d7-ccf3-4dbd-bf43-47673de911ea",
   "metadata": {},
   "outputs": [],
   "source": [
    "import numpy as np"
   ]
  },
  {
   "cell_type": "markdown",
   "id": "9ada057f-4988-4dab-9bf2-150d9d17c651",
   "metadata": {},
   "source": [
    "## Arange"
   ]
  },
  {
   "cell_type": "code",
   "execution_count": 6,
   "id": "d79486fa-433b-4a37-8afa-cccb0b7ffa92",
   "metadata": {},
   "outputs": [
    {
     "data": {
      "text/plain": [
       "array([ 0,  2,  4,  6,  8, 10, 12, 14, 16, 18])"
      ]
     },
     "execution_count": 6,
     "metadata": {},
     "output_type": "execute_result"
    }
   ],
   "source": [
    "# CREAR SECUENCIA DE NUMERO\n",
    "arr = np.arange(0,20,2)\n",
    "arr"
   ]
  },
  {
   "cell_type": "markdown",
   "id": "d70fbd10-3dc1-496f-bc50-6e80f37cfee3",
   "metadata": {
    "tags": []
   },
   "source": [
    "## Zeros y Ones"
   ]
  },
  {
   "cell_type": "code",
   "execution_count": 13,
   "id": "a0989fc7-da17-478c-8960-b43bfad654e4",
   "metadata": {},
   "outputs": [
    {
     "data": {
      "text/plain": [
       "array([0., 0., 0.])"
      ]
     },
     "execution_count": 13,
     "metadata": {},
     "output_type": "execute_result"
    }
   ],
   "source": [
    "# GENERAR CEROS\n",
    "ceros = np.zeros(3)\n",
    "ceros"
   ]
  },
  {
   "cell_type": "code",
   "execution_count": 14,
   "id": "eda95fbe-e1a4-4094-a3da-81c06a238017",
   "metadata": {},
   "outputs": [
    {
     "data": {
      "text/plain": [
       "array([[0., 0., 0.],\n",
       "       [0., 0., 0.],\n",
       "       [0., 0., 0.]])"
      ]
     },
     "execution_count": 14,
     "metadata": {},
     "output_type": "execute_result"
    }
   ],
   "source": [
    "# GENERAR CEROS ES UTIL PARA TENER ARRAYS CON DIMENCIONES YA CONOCIDAS\n",
    "# PERO QUE NO SE SABE AUN SUS DATOS\n",
    "ceros = np.zeros((3,3))\n",
    "ceros"
   ]
  },
  {
   "cell_type": "code",
   "execution_count": 18,
   "id": "057253b6-5fe9-4822-9d89-2e78151b1401",
   "metadata": {},
   "outputs": [
    {
     "data": {
      "text/plain": [
       "array([[1., 1., 1., 1.],\n",
       "       [1., 1., 1., 1.],\n",
       "       [1., 1., 1., 1.],\n",
       "       [1., 1., 1., 1.]])"
      ]
     },
     "execution_count": 18,
     "metadata": {},
     "output_type": "execute_result"
    }
   ],
   "source": [
    "# TAMBIEN SE PUEDE GENERAR ARRAYS DE SOLO UNOS\n",
    "unos = np.ones((4,4))\n",
    "unos"
   ]
  },
  {
   "cell_type": "markdown",
   "id": "fe562741-b20b-47a3-b255-b50a40b9c183",
   "metadata": {},
   "source": [
    "## Linspace"
   ]
  },
  {
   "cell_type": "code",
   "execution_count": 144,
   "id": "4bd9cc69-cd22-42fd-b846-b34493faa887",
   "metadata": {},
   "outputs": [
    {
     "data": {
      "text/plain": [
       "array([ 0.        ,  0.52631579,  1.05263158,  1.57894737,  2.10526316,\n",
       "        2.63157895,  3.15789474,  3.68421053,  4.21052632,  4.73684211,\n",
       "        5.26315789,  5.78947368,  6.31578947,  6.84210526,  7.36842105,\n",
       "        7.89473684,  8.42105263,  8.94736842,  9.47368421, 10.        ])"
      ]
     },
     "execution_count": 144,
     "metadata": {},
     "output_type": "execute_result"
    }
   ],
   "source": [
    "# CREA UNA CANTIDAD DEFINIDA DE NUEMROS EN UN RANGO\n",
    "# 20 VALORES EQUIDISTANTES, ENTRE 0 Y 10\n",
    "np.linspace(0, 10, 20)"
   ]
  },
  {
   "cell_type": "code",
   "execution_count": 157,
   "id": "bdde806a-b7c2-4593-b5a6-172e9fd98cc5",
   "metadata": {},
   "outputs": [
    {
     "data": {
      "text/plain": [
       "array([ 0. ,  2.5,  5. ,  7.5, 10. ])"
      ]
     },
     "execution_count": 157,
     "metadata": {},
     "output_type": "execute_result"
    }
   ],
   "source": [
    "# CON endpoint=True, TOMA EN CUENTA EL ULTIMO VALOR\n",
    "np.linspace(0, 10, 5, endpoint=True)"
   ]
  },
  {
   "cell_type": "code",
   "execution_count": 158,
   "id": "908cce3e-96bd-4995-9a4e-a55555d08700",
   "metadata": {},
   "outputs": [
    {
     "data": {
      "text/plain": [
       "array([0., 2., 4., 6., 8.])"
      ]
     },
     "execution_count": 158,
     "metadata": {},
     "output_type": "execute_result"
    }
   ],
   "source": [
    "# CON endpoint=False, NO TOMA EN CUENTA EL ULTIMO VALOR\n",
    "np.linspace(0, 10, 5, endpoint=False)"
   ]
  },
  {
   "cell_type": "markdown",
   "id": "5b517b9c-ae42-4486-ac17-64e2adefb26f",
   "metadata": {},
   "source": [
    "## Eye"
   ]
  },
  {
   "cell_type": "code",
   "execution_count": 22,
   "id": "efda88ce-ca6b-4bfa-b96f-98e64c419745",
   "metadata": {
    "tags": []
   },
   "outputs": [
    {
     "data": {
      "text/plain": [
       "array([[1., 0., 0., 0.],\n",
       "       [0., 1., 0., 0.],\n",
       "       [0., 0., 1., 0.],\n",
       "       [0., 0., 0., 1.]])"
      ]
     },
     "execution_count": 22,
     "metadata": {},
     "output_type": "execute_result"
    }
   ],
   "source": [
    "# UTIL EN ALGEBRA LINEAL\n",
    "# DIAGONAL DE SOLO UNOS\n",
    "diagonal = np.eye(4)\n",
    "diagonal"
   ]
  },
  {
   "cell_type": "markdown",
   "id": "96827dc1-98d2-4954-ae5c-d331c4add739",
   "metadata": {},
   "source": [
    "## Random"
   ]
  },
  {
   "cell_type": "code",
   "execution_count": 118,
   "id": "302f1536-be2a-426c-b4c3-06ea876b1721",
   "metadata": {},
   "outputs": [
    {
     "data": {
      "text/plain": [
       "0.17142781324509082"
      ]
     },
     "execution_count": 118,
     "metadata": {},
     "output_type": "execute_result"
    }
   ],
   "source": [
    "# GENERAR UN RANDOM DECIMAL\n",
    "random = np.random.rand()\n",
    "random"
   ]
  },
  {
   "cell_type": "code",
   "execution_count": 119,
   "id": "558ee70e-6727-44aa-910c-bf055652d416",
   "metadata": {},
   "outputs": [
    {
     "data": {
      "text/plain": [
       "array([0.25453838, 0.98938098, 0.77882138, 0.13267176, 0.82292123])"
      ]
     },
     "execution_count": 119,
     "metadata": {},
     "output_type": "execute_result"
    }
   ],
   "source": [
    "# GENERA UN VECTOR CON ELEMENTOS RANDOM DECIMALES\n",
    "arr = np.random.rand(5)\n",
    "arr"
   ]
  },
  {
   "cell_type": "code",
   "execution_count": 120,
   "id": "78da935b-4470-4d11-8a7d-f3df7dc39521",
   "metadata": {},
   "outputs": [
    {
     "data": {
      "text/plain": [
       "array([[0.10782101, 0.22209647, 0.46813697, 0.97611851],\n",
       "       [0.3637563 , 0.66607912, 0.03291788, 0.23128132],\n",
       "       [0.23512316, 0.40263159, 0.14068439, 0.57516645],\n",
       "       [0.65798546, 0.17364183, 0.41325675, 0.21443117]])"
      ]
     },
     "execution_count": 120,
     "metadata": {},
     "output_type": "execute_result"
    }
   ],
   "source": [
    "# GENERA UNA MATRIZ CON ELEMRNTOS RANDOM DECIMALES\n",
    "matriz = np.random.rand(4,4)\n",
    "matriz"
   ]
  },
  {
   "cell_type": "code",
   "execution_count": 47,
   "id": "666e4709-a3e9-414a-ba3c-bfd6c82542ce",
   "metadata": {},
   "outputs": [
    {
     "data": {
      "text/plain": [
       "7"
      ]
     },
     "execution_count": 47,
     "metadata": {},
     "output_type": "execute_result"
    }
   ],
   "source": [
    "# GENERA UN RANDOM ENTRERO DENTRO DE UN RANGO DETERMINADO\n",
    "random_entero = np.random.randint(0,10)\n",
    "random_entero"
   ]
  },
  {
   "cell_type": "code",
   "execution_count": 124,
   "id": "939bcd71-1a2a-447f-b9c2-4478aac11c15",
   "metadata": {},
   "outputs": [
    {
     "data": {
      "text/plain": [
       "array([[0, 6, 4, 5, 9, 9, 5, 2, 5, 7],\n",
       "       [8, 6, 9, 4, 1, 6, 1, 2, 0, 1],\n",
       "       [2, 8, 2, 0, 1, 2, 5, 5, 0, 2],\n",
       "       [2, 8, 2, 7, 9, 5, 5, 3, 5, 2],\n",
       "       [8, 8, 6, 3, 9, 9, 4, 0, 9, 5],\n",
       "       [9, 4, 8, 8, 6, 9, 2, 9, 9, 1],\n",
       "       [8, 7, 4, 0, 1, 7, 2, 8, 9, 6],\n",
       "       [2, 6, 0, 9, 4, 5, 4, 1, 0, 4],\n",
       "       [4, 8, 2, 4, 0, 9, 2, 4, 9, 6],\n",
       "       [3, 0, 7, 6, 2, 3, 1, 2, 2, 8]])"
      ]
     },
     "execution_count": 124,
     "metadata": {},
     "output_type": "execute_result"
    }
   ],
   "source": [
    "# GENERA UNA MATRIZ CON ELEMENTOS RANDOM ENTEROS, DENTRO DE UN RANGO DETERMINADO\n",
    "matriz_random_entero = np.random.randint(0,10,(10,10))\n",
    "matriz_random_entero"
   ]
  },
  {
   "cell_type": "code",
   "execution_count": 133,
   "id": "c92ebfe5-918e-41b7-b95f-3edeae2b374f",
   "metadata": {
    "tags": []
   },
   "outputs": [
    {
     "data": {
      "text/plain": [
       "array([[1, 4, 0],\n",
       "       [5, 0, 8],\n",
       "       [4, 2, 0],\n",
       "       [8, 4, 2]])"
      ]
     },
     "execution_count": 133,
     "metadata": {},
     "output_type": "execute_result"
    }
   ],
   "source": [
    "# ARRAY DON DIMENCIONES DETERMINADAS, CON SELECCION RANDOM DESDE UN SET DE DATOS (VECTOR)\n",
    "np.random.choice([1,2,3,4,5,6,7,8,9,0], size=(4,3))"
   ]
  },
  {
   "cell_type": "code",
   "execution_count": 142,
   "id": "78d382bb-02e8-4a36-a86e-ac8d479a389e",
   "metadata": {},
   "outputs": [
    {
     "data": {
      "text/plain": [
       "array([[0, 0, 0, 0, 0],\n",
       "       [0, 0, 0, 0, 0],\n",
       "       [0, 0, 0, 0, 0],\n",
       "       [0, 0, 0, 0, 0]])"
      ]
     },
     "execution_count": 142,
     "metadata": {},
     "output_type": "execute_result"
    }
   ],
   "source": [
    "# CREAR UN ARRAY DE PUROS CEROS, COPIANDO LA DIMENCION DE OTRO ARRAY\n",
    "# np.zeros_like()\n",
    "ar = np.random.choice([1,2,3,4,5,6,7,8,9,0], size=(4,5))\n",
    "np.zeros_like(ar)"
   ]
  },
  {
   "cell_type": "markdown",
   "id": "b8ccc5eb-e845-4510-b992-8c67e726411c",
   "metadata": {},
   "source": [
    "## Full"
   ]
  },
  {
   "cell_type": "code",
   "execution_count": 128,
   "id": "d6be71ef-48dc-443f-91c5-805a6f86ea2d",
   "metadata": {},
   "outputs": [
    {
     "data": {
      "text/plain": [
       "array([[3, 3, 3, 3, 3],\n",
       "       [3, 3, 3, 3, 3],\n",
       "       [3, 3, 3, 3, 3],\n",
       "       [3, 3, 3, 3, 3],\n",
       "       [3, 3, 3, 3, 3]])"
      ]
     },
     "execution_count": 128,
     "metadata": {},
     "output_type": "execute_result"
    }
   ],
   "source": [
    "# CREA UN ARRAY CON DIMENCIONES DETERMINADAS, Y CON EL ELEMENTO QUE SE DESEA\n",
    "np.full((5,5), 3)"
   ]
  },
  {
   "cell_type": "code",
   "execution_count": null,
   "id": "a9c99b43-ba86-4c4e-8778-ce8555228613",
   "metadata": {},
   "outputs": [],
   "source": []
  },
  {
   "cell_type": "code",
   "execution_count": null,
   "id": "c373c617-f2e8-48d8-9095-8dd332de77dd",
   "metadata": {},
   "outputs": [],
   "source": []
  },
  {
   "cell_type": "code",
   "execution_count": null,
   "id": "3963a780-3287-4fde-90ed-52767ff4ff7d",
   "metadata": {},
   "outputs": [],
   "source": []
  },
  {
   "cell_type": "code",
   "execution_count": null,
   "id": "15ff23fb-9578-4fcf-9790-98b55f14c616",
   "metadata": {},
   "outputs": [],
   "source": []
  }
 ],
 "metadata": {
  "kernelspec": {
   "display_name": "Python 3 (ipykernel)",
   "language": "python",
   "name": "python3"
  },
  "language_info": {
   "codemirror_mode": {
    "name": "ipython",
    "version": 3
   },
   "file_extension": ".py",
   "mimetype": "text/x-python",
   "name": "python",
   "nbconvert_exporter": "python",
   "pygments_lexer": "ipython3",
   "version": "3.10.4"
  }
 },
 "nbformat": 4,
 "nbformat_minor": 5
}
