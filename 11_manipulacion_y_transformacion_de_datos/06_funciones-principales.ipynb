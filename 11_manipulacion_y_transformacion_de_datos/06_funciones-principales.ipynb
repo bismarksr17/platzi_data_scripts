{
 "cells": [
  {
   "cell_type": "code",
   "execution_count": 1,
   "id": "e4b80957-c48e-4ac3-8a53-6858cffa08fc",
   "metadata": {},
   "outputs": [],
   "source": [
    "import numpy as np"
   ]
  },
  {
   "cell_type": "code",
   "execution_count": 3,
   "id": "2403bb20-a28b-4d88-94b4-5b0346cde2a6",
   "metadata": {},
   "outputs": [
    {
     "data": {
      "text/plain": [
       "array([ 3,  0,  1, 13,  6,  4,  9, 16, 18,  5])"
      ]
     },
     "execution_count": 3,
     "metadata": {},
     "output_type": "execute_result"
    }
   ],
   "source": [
    "arr = np.random.randint(0,20,10)\n",
    "arr"
   ]
  },
  {
   "cell_type": "code",
   "execution_count": 5,
   "id": "0e04b350-aded-4a85-9c72-a857607643ca",
   "metadata": {},
   "outputs": [
    {
     "data": {
      "text/plain": [
       "array([[ 3,  0,  1, 13,  6],\n",
       "       [ 4,  9, 16, 18,  5]])"
      ]
     },
     "execution_count": 5,
     "metadata": {},
     "output_type": "execute_result"
    }
   ],
   "source": [
    "matriz = arr.reshape(2,5)\n",
    "matriz"
   ]
  },
  {
   "cell_type": "markdown",
   "id": "5cefc6c7-5a44-4870-a867-09bf6d6a2863",
   "metadata": {},
   "source": [
    "## Max"
   ]
  },
  {
   "cell_type": "code",
   "execution_count": 13,
   "id": "4e74e731-f803-4886-8dd3-a44d2f22a460",
   "metadata": {},
   "outputs": [
    {
     "data": {
      "text/plain": [
       "18"
      ]
     },
     "execution_count": 13,
     "metadata": {},
     "output_type": "execute_result"
    }
   ],
   "source": [
    "# MAXIMO EN VECTOR\n",
    "arr.max()"
   ]
  },
  {
   "cell_type": "code",
   "execution_count": 14,
   "id": "a8cbc333-3cd9-4e79-b3e8-9fd789d4981d",
   "metadata": {},
   "outputs": [
    {
     "data": {
      "text/plain": [
       "18"
      ]
     },
     "execution_count": 14,
     "metadata": {},
     "output_type": "execute_result"
    }
   ],
   "source": [
    "# MAXIMO EN MATRIZ\n",
    "matriz.max()"
   ]
  },
  {
   "cell_type": "code",
   "execution_count": 15,
   "id": "2d094174-09b9-4cad-a642-c83271f6be70",
   "metadata": {},
   "outputs": [
    {
     "data": {
      "text/plain": [
       "array([13, 18])"
      ]
     },
     "execution_count": 15,
     "metadata": {},
     "output_type": "execute_result"
    }
   ],
   "source": [
    "# MAXIMO, POR FILAS\n",
    "matriz.max(1)"
   ]
  },
  {
   "cell_type": "code",
   "execution_count": 16,
   "id": "66d45791-7bf1-4e48-a78e-5dee50fe9466",
   "metadata": {},
   "outputs": [
    {
     "data": {
      "text/plain": [
       "array([ 4,  9, 16, 18,  6])"
      ]
     },
     "execution_count": 16,
     "metadata": {},
     "output_type": "execute_result"
    }
   ],
   "source": [
    "# MAXIMO POR COLUMNA\n",
    "matriz.max(0)"
   ]
  },
  {
   "cell_type": "markdown",
   "id": "60ee1385-51ff-4c86-96a0-066e525b3300",
   "metadata": {},
   "source": [
    "## ArgMax"
   ]
  },
  {
   "cell_type": "code",
   "execution_count": 18,
   "id": "af41521d-656f-47d0-830c-4dab2842bc32",
   "metadata": {},
   "outputs": [
    {
     "data": {
      "text/plain": [
       "8"
      ]
     },
     "execution_count": 18,
     "metadata": {},
     "output_type": "execute_result"
    }
   ],
   "source": [
    "# INDICE DEL VALOR MAXIMO\n",
    "arr.argmax()"
   ]
  },
  {
   "cell_type": "code",
   "execution_count": 21,
   "id": "4245fa54-1df0-41f6-ac25-01439b7a08f0",
   "metadata": {},
   "outputs": [
    {
     "data": {
      "text/plain": [
       "array([1, 1, 1, 1, 0])"
      ]
     },
     "execution_count": 21,
     "metadata": {},
     "output_type": "execute_result"
    }
   ],
   "source": [
    "# INDICE DEL VALOR MAYOR, POR COLUMNA\n",
    "matriz.argmax(0)"
   ]
  },
  {
   "cell_type": "markdown",
   "id": "df48644e-da23-4e66-8220-0f77ed4cf60b",
   "metadata": {},
   "source": [
    "## Min"
   ]
  },
  {
   "cell_type": "code",
   "execution_count": 22,
   "id": "ce708a14-3dbd-4dfe-b728-e93e6a95272b",
   "metadata": {},
   "outputs": [
    {
     "data": {
      "text/plain": [
       "0"
      ]
     },
     "execution_count": 22,
     "metadata": {},
     "output_type": "execute_result"
    }
   ],
   "source": [
    "arr.min()"
   ]
  },
  {
   "cell_type": "code",
   "execution_count": 23,
   "id": "740b43e6-52e6-4624-99ae-5345bdddf3d3",
   "metadata": {},
   "outputs": [
    {
     "data": {
      "text/plain": [
       "0"
      ]
     },
     "execution_count": 23,
     "metadata": {},
     "output_type": "execute_result"
    }
   ],
   "source": [
    "matriz.min()"
   ]
  },
  {
   "cell_type": "code",
   "execution_count": 24,
   "id": "e8b1ff7e-6753-4875-abb8-7a1aeea0a687",
   "metadata": {},
   "outputs": [
    {
     "data": {
      "text/plain": [
       "array([ 3,  0,  1, 13,  5])"
      ]
     },
     "execution_count": 24,
     "metadata": {},
     "output_type": "execute_result"
    }
   ],
   "source": [
    "matriz.min(0)"
   ]
  },
  {
   "cell_type": "markdown",
   "id": "b35ab8d7-1e11-40c6-bc55-db03ff3360d8",
   "metadata": {},
   "source": [
    "## ArgMin"
   ]
  },
  {
   "cell_type": "code",
   "execution_count": 25,
   "id": "a1b24eab-eab6-4e4b-8767-ec2953e636a9",
   "metadata": {},
   "outputs": [
    {
     "data": {
      "text/plain": [
       "1"
      ]
     },
     "execution_count": 25,
     "metadata": {},
     "output_type": "execute_result"
    }
   ],
   "source": [
    "arr.argmin()"
   ]
  },
  {
   "cell_type": "code",
   "execution_count": 26,
   "id": "dd8c0ca9-0805-42d9-bbd9-5ca60d6036cf",
   "metadata": {},
   "outputs": [
    {
     "data": {
      "text/plain": [
       "array([0, 0, 0, 0, 1])"
      ]
     },
     "execution_count": 26,
     "metadata": {},
     "output_type": "execute_result"
    }
   ],
   "source": [
    "matriz.argmin(0)"
   ]
  },
  {
   "cell_type": "markdown",
   "id": "ade062b4-4f3d-4a10-a7a0-d2993d3fec35",
   "metadata": {},
   "source": [
    "## PTP (pick yo pick)"
   ]
  },
  {
   "cell_type": "code",
   "execution_count": 27,
   "id": "ccb361b8-802b-43dd-962e-2c02c39c7047",
   "metadata": {},
   "outputs": [
    {
     "data": {
      "text/plain": [
       "array([ 3,  0,  1, 13,  6,  4,  9, 16, 18,  5])"
      ]
     },
     "execution_count": 27,
     "metadata": {},
     "output_type": "execute_result"
    }
   ],
   "source": [
    "arr"
   ]
  },
  {
   "cell_type": "code",
   "execution_count": 29,
   "id": "e9e8a128-a1f4-44d7-89e4-ac34f6f8b9be",
   "metadata": {},
   "outputs": [
    {
     "data": {
      "text/plain": [
       "18"
      ]
     },
     "execution_count": 29,
     "metadata": {},
     "output_type": "execute_result"
    }
   ],
   "source": [
    "# DIFERENCIA DEL PICO MAS ALTO Y EL PICO MAS ALTO\n",
    "arr.ptp()"
   ]
  },
  {
   "cell_type": "code",
   "execution_count": 31,
   "id": "78cb1f76-d918-46a5-892c-8ee61b706d7a",
   "metadata": {},
   "outputs": [
    {
     "data": {
      "text/plain": [
       "array([[ 3,  0,  1, 13,  6],\n",
       "       [ 4,  9, 16, 18,  5]])"
      ]
     },
     "execution_count": 31,
     "metadata": {},
     "output_type": "execute_result"
    }
   ],
   "source": [
    "matriz"
   ]
  },
  {
   "cell_type": "code",
   "execution_count": 35,
   "id": "9733e5fa-c93c-4d96-b0fb-9272e33cee57",
   "metadata": {},
   "outputs": [
    {
     "data": {
      "text/plain": [
       "array([ 1,  9, 15,  5,  1])"
      ]
     },
     "execution_count": 35,
     "metadata": {},
     "output_type": "execute_result"
    }
   ],
   "source": [
    "# ptp EN UN EJE\n",
    "matriz.ptp(0)"
   ]
  },
  {
   "cell_type": "markdown",
   "id": "e4c4675b-8e85-4b08-bf38-11d58bf362bf",
   "metadata": {},
   "source": [
    "## Percentil"
   ]
  },
  {
   "cell_type": "code",
   "execution_count": 45,
   "id": "1f77bcd8-b50e-44b0-9fed-2bb7ed113e0e",
   "metadata": {},
   "outputs": [
    {
     "data": {
      "text/plain": [
       "array([ 0,  1,  3,  4,  5,  6,  9, 13, 16, 18])"
      ]
     },
     "execution_count": 45,
     "metadata": {},
     "output_type": "execute_result"
    }
   ],
   "source": [
    "arr.sort()\n",
    "arr"
   ]
  },
  {
   "cell_type": "code",
   "execution_count": 41,
   "id": "f137c877-2798-4f40-ba5f-49196187561a",
   "metadata": {},
   "outputs": [
    {
     "data": {
      "text/plain": [
       "0.0"
      ]
     },
     "execution_count": 41,
     "metadata": {},
     "output_type": "execute_result"
    }
   ],
   "source": [
    "# PERCENTILE MAS BAJO\n",
    "np.percentile(arr, 0)"
   ]
  },
  {
   "cell_type": "code",
   "execution_count": 42,
   "id": "8893dd8c-aef1-4d3a-a1b2-cf8ffc6bd0de",
   "metadata": {},
   "outputs": [
    {
     "data": {
      "text/plain": [
       "5.5"
      ]
     },
     "execution_count": 42,
     "metadata": {},
     "output_type": "execute_result"
    }
   ],
   "source": [
    "# PERCENTILE MEDIO\n",
    "np.percentile(arr, 50)"
   ]
  },
  {
   "cell_type": "code",
   "execution_count": 43,
   "id": "f9702280-7493-4228-b63c-dd15b36123af",
   "metadata": {},
   "outputs": [
    {
     "data": {
      "text/plain": [
       "18.0"
      ]
     },
     "execution_count": 43,
     "metadata": {},
     "output_type": "execute_result"
    }
   ],
   "source": [
    "# PERCENTILE MAS ALTO\n",
    "np.percentile(arr, 100)"
   ]
  },
  {
   "cell_type": "markdown",
   "id": "c3c4fe94-19c5-4ba7-b2f2-a7f12dad3db5",
   "metadata": {},
   "source": [
    "## Mediana"
   ]
  },
  {
   "cell_type": "code",
   "execution_count": 49,
   "id": "1ace365e-b8bc-433e-a3be-2c095c770040",
   "metadata": {},
   "outputs": [
    {
     "data": {
      "text/plain": [
       "5.5"
      ]
     },
     "execution_count": 49,
     "metadata": {},
     "output_type": "execute_result"
    }
   ],
   "source": [
    "# MEDIANA\n",
    "np.median(arr)"
   ]
  },
  {
   "cell_type": "code",
   "execution_count": 50,
   "id": "c01031ee-b401-44e7-832b-d27745a7d351",
   "metadata": {},
   "outputs": [
    {
     "data": {
      "text/plain": [
       "array([ 3. ,  5. ,  8. , 10. , 11.5])"
      ]
     },
     "execution_count": 50,
     "metadata": {},
     "output_type": "execute_result"
    }
   ],
   "source": [
    "# MEDIANA POR EJE\n",
    "np.median(matriz, 0)"
   ]
  },
  {
   "cell_type": "markdown",
   "id": "0c0bbb29-46ba-4d97-8e91-f2c362279009",
   "metadata": {},
   "source": [
    "## DESVIACION ESTANDAR"
   ]
  },
  {
   "cell_type": "code",
   "execution_count": 55,
   "id": "670278f6-9945-4afe-bf5e-4ac737d6eaf4",
   "metadata": {},
   "outputs": [
    {
     "data": {
      "text/plain": [
       "5.953990258641679"
      ]
     },
     "execution_count": 55,
     "metadata": {},
     "output_type": "execute_result"
    }
   ],
   "source": [
    "np.std(arr)"
   ]
  },
  {
   "cell_type": "markdown",
   "id": "663c0242-b8f2-406b-a9d9-3aee71f2a497",
   "metadata": {},
   "source": [
    "## Varianza "
   ]
  },
  {
   "cell_type": "code",
   "execution_count": 53,
   "id": "5101891e-5a9a-4ab5-be20-954cd1f0315f",
   "metadata": {},
   "outputs": [
    {
     "data": {
      "text/plain": [
       "35.45"
      ]
     },
     "execution_count": 53,
     "metadata": {},
     "output_type": "execute_result"
    }
   ],
   "source": [
    "np.var(arr)"
   ]
  },
  {
   "cell_type": "markdown",
   "id": "6fa93b84-a778-4e49-9426-d99b909e4217",
   "metadata": {},
   "source": [
    "## Media"
   ]
  },
  {
   "cell_type": "code",
   "execution_count": 56,
   "id": "a1012907-2f6c-470b-ad1c-1330380a1d7f",
   "metadata": {},
   "outputs": [
    {
     "data": {
      "text/plain": [
       "7.5"
      ]
     },
     "execution_count": 56,
     "metadata": {},
     "output_type": "execute_result"
    }
   ],
   "source": [
    "np.mean(arr)"
   ]
  },
  {
   "cell_type": "code",
   "execution_count": 58,
   "id": "8c2693e8-fa43-4bcf-9d89-9009510eecb0",
   "metadata": {},
   "outputs": [
    {
     "data": {
      "text/plain": [
       "array([ 3. ,  5. ,  8. , 10. , 11.5])"
      ]
     },
     "execution_count": 58,
     "metadata": {},
     "output_type": "execute_result"
    }
   ],
   "source": [
    "# MEDIA POR EJE 0\n",
    "np.mean(matriz,0)"
   ]
  },
  {
   "cell_type": "markdown",
   "id": "51e14302-b6c0-4d2b-a9cc-a6cacdcb35c5",
   "metadata": {},
   "source": [
    "## Concatenar arrays"
   ]
  },
  {
   "cell_type": "code",
   "execution_count": 79,
   "id": "038672e8-50fb-43c2-914a-54f65cc24e59",
   "metadata": {},
   "outputs": [],
   "source": [
    "# SE CREAN DOS ARRAYS, DE 2 Y 1 DIMENCION\n",
    "a = np.array([[1,2],[3,4]])\n",
    "b = np.array([5,6])"
   ]
  },
  {
   "cell_type": "code",
   "execution_count": 68,
   "id": "05db4a9e-ee76-4662-b115-2fbc0d290d33",
   "metadata": {},
   "outputs": [
    {
     "name": "stdout",
     "output_type": "stream",
     "text": [
      "Dimenciones:  2\n"
     ]
    },
    {
     "data": {
      "text/plain": [
       "array([[1, 2],\n",
       "       [3, 4]])"
      ]
     },
     "execution_count": 68,
     "metadata": {},
     "output_type": "execute_result"
    }
   ],
   "source": [
    "print('Dimenciones: ', a.ndim)\n",
    "a"
   ]
  },
  {
   "cell_type": "code",
   "execution_count": 69,
   "id": "3bc1037a-8b44-494c-b37a-1908ad92c96c",
   "metadata": {},
   "outputs": [
    {
     "name": "stdout",
     "output_type": "stream",
     "text": [
      "Dimenciones:  1\n"
     ]
    },
    {
     "data": {
      "text/plain": [
       "array([5, 6])"
      ]
     },
     "execution_count": 69,
     "metadata": {},
     "output_type": "execute_result"
    }
   ],
   "source": [
    "print('Dimenciones: ', b.ndim)\n",
    "b"
   ]
  },
  {
   "cell_type": "code",
   "execution_count": 74,
   "id": "0ec88e86-3c26-4c9a-ac6f-e6ac2ecda6fd",
   "metadata": {},
   "outputs": [
    {
     "ename": "ValueError",
     "evalue": "all the input arrays must have same number of dimensions, but the array at index 0 has 2 dimension(s) and the array at index 1 has 1 dimension(s)",
     "output_type": "error",
     "traceback": [
      "\u001b[0;31m---------------------------------------------------------------------------\u001b[0m",
      "\u001b[0;31mValueError\u001b[0m                                Traceback (most recent call last)",
      "Input \u001b[0;32mIn [74]\u001b[0m, in \u001b[0;36m<cell line: 1>\u001b[0;34m()\u001b[0m\n\u001b[0;32m----> 1\u001b[0m \u001b[43mnp\u001b[49m\u001b[38;5;241;43m.\u001b[39;49m\u001b[43mconcatenate\u001b[49m\u001b[43m(\u001b[49m\u001b[43m(\u001b[49m\u001b[43ma\u001b[49m\u001b[43m,\u001b[49m\u001b[43mb\u001b[49m\u001b[43m)\u001b[49m\u001b[43m,\u001b[49m\u001b[43maxis\u001b[49m\u001b[38;5;241;43m=\u001b[39;49m\u001b[38;5;241;43m0\u001b[39;49m\u001b[43m)\u001b[49m\n",
      "File \u001b[0;32m<__array_function__ internals>:180\u001b[0m, in \u001b[0;36mconcatenate\u001b[0;34m(*args, **kwargs)\u001b[0m\n",
      "\u001b[0;31mValueError\u001b[0m: all the input arrays must have same number of dimensions, but the array at index 0 has 2 dimension(s) and the array at index 1 has 1 dimension(s)"
     ]
    }
   ],
   "source": [
    "# ERROR, LAS DIMENCIONES DE AMBOS ARRAYS NO SON IGUALES\n",
    "np.concatenate((a,b),axis=0)"
   ]
  },
  {
   "cell_type": "code",
   "execution_count": 80,
   "id": "9a641a81-a3f7-4251-85e8-5738fcfd9df5",
   "metadata": {},
   "outputs": [
    {
     "data": {
      "text/plain": [
       "array([[5, 6]])"
      ]
     },
     "execution_count": 80,
     "metadata": {},
     "output_type": "execute_result"
    }
   ],
   "source": [
    "# SE EXPANDO EL ARRAY DE 1 A 2 DIMENCIONES\n",
    "b = np.expand_dims(b, axis=0)\n",
    "b"
   ]
  },
  {
   "cell_type": "code",
   "execution_count": 83,
   "id": "76333ab5-27a1-4264-b054-1d9f2022639e",
   "metadata": {},
   "outputs": [
    {
     "data": {
      "text/plain": [
       "array([[1, 2],\n",
       "       [3, 4],\n",
       "       [5, 6]])"
      ]
     },
     "execution_count": 83,
     "metadata": {},
     "output_type": "execute_result"
    }
   ],
   "source": [
    "# CONCATENA DOS ARRAYS EN EL EJE 0\n",
    "np.concatenate((a,b),axis=0)"
   ]
  },
  {
   "cell_type": "code",
   "execution_count": 84,
   "id": "d2eea1e3-864a-4afb-aff0-92bfd3efdc62",
   "metadata": {},
   "outputs": [
    {
     "ename": "ValueError",
     "evalue": "all the input array dimensions for the concatenation axis must match exactly, but along dimension 0, the array at index 0 has size 2 and the array at index 1 has size 1",
     "output_type": "error",
     "traceback": [
      "\u001b[0;31m---------------------------------------------------------------------------\u001b[0m",
      "\u001b[0;31mValueError\u001b[0m                                Traceback (most recent call last)",
      "Input \u001b[0;32mIn [84]\u001b[0m, in \u001b[0;36m<cell line: 1>\u001b[0;34m()\u001b[0m\n\u001b[0;32m----> 1\u001b[0m \u001b[43mnp\u001b[49m\u001b[38;5;241;43m.\u001b[39;49m\u001b[43mconcatenate\u001b[49m\u001b[43m(\u001b[49m\u001b[43m(\u001b[49m\u001b[43ma\u001b[49m\u001b[43m,\u001b[49m\u001b[43mb\u001b[49m\u001b[43m)\u001b[49m\u001b[43m,\u001b[49m\u001b[43m \u001b[49m\u001b[43maxis\u001b[49m\u001b[38;5;241;43m=\u001b[39;49m\u001b[38;5;241;43m1\u001b[39;49m\u001b[43m)\u001b[49m\n",
      "File \u001b[0;32m<__array_function__ internals>:180\u001b[0m, in \u001b[0;36mconcatenate\u001b[0;34m(*args, **kwargs)\u001b[0m\n",
      "\u001b[0;31mValueError\u001b[0m: all the input array dimensions for the concatenation axis must match exactly, but along dimension 0, the array at index 0 has size 2 and the array at index 1 has size 1"
     ]
    }
   ],
   "source": [
    "# AL CONCATENAR POR EL EJE 1, TAMBIEN SE DA UN ERRRO\n",
    "# b NO ESTA EN LAS DIMENCIONES CORRECTAS\n",
    "np.concatenate((a,b), axis=1)"
   ]
  },
  {
   "cell_type": "code",
   "execution_count": 87,
   "id": "ebc3a085-0f08-456f-8da3-f97db8293c4f",
   "metadata": {},
   "outputs": [
    {
     "data": {
      "text/plain": [
       "array([[1, 2, 5],\n",
       "       [3, 4, 6]])"
      ]
     },
     "execution_count": 87,
     "metadata": {},
     "output_type": "execute_result"
    }
   ],
   "source": [
    "# SE SOLUCIONA TRANSPONIENDO EL ARRAY b\n",
    "np.concatenate((a,b.T), axis=1)"
   ]
  },
  {
   "cell_type": "code",
   "execution_count": null,
   "id": "4666b94a-b4d0-44ba-a276-9eb70bf5b939",
   "metadata": {},
   "outputs": [],
   "source": []
  }
 ],
 "metadata": {
  "kernelspec": {
   "display_name": "Python 3 (ipykernel)",
   "language": "python",
   "name": "python3"
  },
  "language_info": {
   "codemirror_mode": {
    "name": "ipython",
    "version": 3
   },
   "file_extension": ".py",
   "mimetype": "text/x-python",
   "name": "python",
   "nbconvert_exporter": "python",
   "pygments_lexer": "ipython3",
   "version": "3.10.4"
  }
 },
 "nbformat": 4,
 "nbformat_minor": 5
}
