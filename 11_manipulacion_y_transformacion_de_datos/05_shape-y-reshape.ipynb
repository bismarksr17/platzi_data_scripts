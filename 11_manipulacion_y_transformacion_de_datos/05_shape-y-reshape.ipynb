{
 "cells": [
  {
   "cell_type": "code",
   "execution_count": 1,
   "id": "98632a72-82fb-4e6d-ac9b-458f1915ff6d",
   "metadata": {},
   "outputs": [],
   "source": [
    "import numpy as np"
   ]
  },
  {
   "cell_type": "code",
   "execution_count": 9,
   "id": "f2829361-85f9-43c5-98b3-69183b407dbe",
   "metadata": {},
   "outputs": [
    {
     "data": {
      "text/plain": [
       "array([[1, 8],\n",
       "       [1, 7],\n",
       "       [7, 9]])"
      ]
     },
     "execution_count": 9,
     "metadata": {},
     "output_type": "execute_result"
    }
   ],
   "source": [
    "# GENERAMOS UN ARRAY\n",
    "arr = np.random.randint(1,10, (3,2))\n",
    "arr"
   ]
  },
  {
   "cell_type": "markdown",
   "id": "e677b72a-2612-4d6e-903d-4eae520dd4f7",
   "metadata": {},
   "source": [
    "## Shape"
   ]
  },
  {
   "cell_type": "code",
   "execution_count": 11,
   "id": "0fd7c6c4-5ce6-4e77-bef5-cc703ad9ed0e",
   "metadata": {},
   "outputs": [
    {
     "data": {
      "text/plain": [
       "(3, 2)"
      ]
     },
     "execution_count": 11,
     "metadata": {},
     "output_type": "execute_result"
    }
   ],
   "source": [
    "# SHAPE MUESTRA LAS DIMENCIONES DEL ARRAY\n",
    "arr.shape"
   ]
  },
  {
   "cell_type": "markdown",
   "id": "56ffbd69-84f8-4d9d-87ed-d07e074c35de",
   "metadata": {},
   "source": [
    "## Reshape"
   ]
  },
  {
   "cell_type": "code",
   "execution_count": 13,
   "id": "bff75320-a2c0-4848-921a-d8198123e52a",
   "metadata": {},
   "outputs": [
    {
     "data": {
      "text/plain": [
       "array([[1, 8, 1, 7, 7, 9]])"
      ]
     },
     "execution_count": 13,
     "metadata": {},
     "output_type": "execute_result"
    }
   ],
   "source": [
    "# CAMBIA LA FORMA, REDIMENCIONA EL ARRAY\n",
    "# LAS NUEVAS DIMENCIONES, TIENEN QUE SER CONMPATIBLES CON LAS ORIGINALES (MISMA CANTIDAD DE ELEMENTOS)\n",
    "arr.reshape(1,6)"
   ]
  },
  {
   "cell_type": "code",
   "execution_count": 20,
   "id": "85ff129c-50f0-421a-a400-307fa8c049a7",
   "metadata": {},
   "outputs": [
    {
     "data": {
      "text/plain": [
       "array([[1, 8, 1],\n",
       "       [7, 7, 9]])"
      ]
     },
     "execution_count": 20,
     "metadata": {},
     "output_type": "execute_result"
    }
   ],
   "source": [
    "arr.reshape(2,3)"
   ]
  },
  {
   "cell_type": "code",
   "execution_count": 27,
   "id": "8864ef20-2f04-41ff-8a9e-8e0efe07dc63",
   "metadata": {},
   "outputs": [
    {
     "data": {
      "text/plain": [
       "array([[1, 8, 1],\n",
       "       [7, 7, 9]])"
      ]
     },
     "execution_count": 27,
     "metadata": {},
     "output_type": "execute_result"
    }
   ],
   "source": [
    "# RESHAPE DESDE EL CONSTRUCTOR DE NUMPY\n",
    "np.reshape(arr, (2,3))"
   ]
  },
  {
   "cell_type": "markdown",
   "id": "aa2c6119-c5ce-400b-8f45-3a136c97f33c",
   "metadata": {},
   "source": [
    "## Reshape con distintos metodos de orden"
   ]
  },
  {
   "cell_type": "code",
   "execution_count": 31,
   "id": "9d213ec0-44a7-4e7e-9dae-61819ead8972",
   "metadata": {},
   "outputs": [
    {
     "data": {
      "text/plain": [
       "array([[1, 8],\n",
       "       [1, 7],\n",
       "       [7, 9]])"
      ]
     },
     "execution_count": 31,
     "metadata": {},
     "output_type": "execute_result"
    }
   ],
   "source": [
    "# ARRAY ORIGINAL\n",
    "arr"
   ]
  },
  {
   "cell_type": "code",
   "execution_count": 33,
   "id": "1bd2f2a5-decd-41db-9109-dfdbea65eb37",
   "metadata": {},
   "outputs": [
    {
     "data": {
      "text/plain": [
       "array([[1, 8, 1],\n",
       "       [7, 7, 9]])"
      ]
     },
     "execution_count": 33,
     "metadata": {},
     "output_type": "execute_result"
    }
   ],
   "source": [
    "# RESHAPE ORIGINAL, EN LENGUAJE C\n",
    "# AVANZA POR FILAS DEL ARRAY ORIGINAL\n",
    "np.reshape(arr, (2,3), 'C')"
   ]
  },
  {
   "cell_type": "code",
   "execution_count": 35,
   "id": "8cd96ef4-4be6-4818-b35d-7981e9f18617",
   "metadata": {},
   "outputs": [
    {
     "data": {
      "text/plain": [
       "array([[1, 7, 7],\n",
       "       [1, 8, 9]])"
      ]
     },
     "execution_count": 35,
     "metadata": {},
     "output_type": "execute_result"
    }
   ],
   "source": [
    "# REASHAPE SEGUN FORTRAM\n",
    "# AVANZA POR COLUMNAS\n",
    "np.reshape(arr, (2,3), 'F')"
   ]
  },
  {
   "cell_type": "code",
   "execution_count": 37,
   "id": "4265725b-36bd-4f81-97a4-37e5f0bdf812",
   "metadata": {},
   "outputs": [
    {
     "data": {
      "text/plain": [
       "array([[1, 8, 1],\n",
       "       [7, 7, 9]])"
      ]
     },
     "execution_count": 37,
     "metadata": {},
     "output_type": "execute_result"
    }
   ],
   "source": [
    "# EL SISTEMA ELIGE QUE USAR (C o FORTRAM)\n",
    "# DEPENDE PARA CUAL ESTA OPTIMOZADO EL SISTEMA\n",
    "np.reshape(arr, (2,3), 'A')"
   ]
  },
  {
   "cell_type": "code",
   "execution_count": 38,
   "id": "c77f7d59-2935-4270-8c3a-4aa946ec7868",
   "metadata": {},
   "outputs": [],
   "source": [
    "# ES RECOMENDABLE USAR LA FORMA DE 'C', ES LA BASE DE PYTHON\n",
    "# NO DEJAR QUE EL SISTEMA ELIJA, UNO TIENE QUE TENER CLARO LA FORMA EN QUE SE ESTA APLICANDO EL RESHAPE"
   ]
  },
  {
   "cell_type": "code",
   "execution_count": null,
   "id": "e35ea8b9-f579-412d-a635-2608740859d8",
   "metadata": {},
   "outputs": [],
   "source": []
  },
  {
   "cell_type": "code",
   "execution_count": null,
   "id": "96fd79a6-075c-49f9-9f59-8827b74e1991",
   "metadata": {},
   "outputs": [],
   "source": []
  },
  {
   "cell_type": "code",
   "execution_count": null,
   "id": "587a4fce-100a-4a06-9985-abd216ff40ed",
   "metadata": {},
   "outputs": [],
   "source": []
  },
  {
   "cell_type": "code",
   "execution_count": null,
   "id": "b367ded2-f28f-468b-9b62-b070ae91f981",
   "metadata": {},
   "outputs": [],
   "source": []
  },
  {
   "cell_type": "code",
   "execution_count": null,
   "id": "713cdfa3-99b1-4179-8bf1-4827f098350c",
   "metadata": {},
   "outputs": [],
   "source": []
  }
 ],
 "metadata": {
  "kernelspec": {
   "display_name": "Python 3 (ipykernel)",
   "language": "python",
   "name": "python3"
  },
  "language_info": {
   "codemirror_mode": {
    "name": "ipython",
    "version": 3
   },
   "file_extension": ".py",
   "mimetype": "text/x-python",
   "name": "python",
   "nbconvert_exporter": "python",
   "pygments_lexer": "ipython3",
   "version": "3.10.4"
  }
 },
 "nbformat": 4,
 "nbformat_minor": 5
}
