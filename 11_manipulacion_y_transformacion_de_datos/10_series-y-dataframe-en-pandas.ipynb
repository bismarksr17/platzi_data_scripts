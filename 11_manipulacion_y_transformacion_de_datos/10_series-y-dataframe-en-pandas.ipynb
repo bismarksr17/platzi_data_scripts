{
 "cells": [
  {
   "cell_type": "code",
   "execution_count": 1,
   "id": "af127d73-649f-46a0-9d81-6c0be6da132e",
   "metadata": {},
   "outputs": [],
   "source": [
    "import pandas as pd"
   ]
  },
  {
   "cell_type": "code",
   "execution_count": 29,
   "id": "0d87c6f8-a168-43b8-bdd1-a4dbfbf34094",
   "metadata": {},
   "outputs": [
    {
     "data": {
      "text/plain": [
       "1      Navas\n",
       "7     Mbappe\n",
       "10    Neymar\n",
       "30     Messi\n",
       "dtype: object"
      ]
     },
     "execution_count": 29,
     "metadata": {},
     "output_type": "execute_result"
    }
   ],
   "source": [
    "# SERIE CON INDEX PROPIO\n",
    "jugadores = pd.Series(['Navas', 'Mbappe', 'Neymar', 'Messi'], index=[1, 7, 10, 30])\n",
    "jugadores"
   ]
  },
  {
   "cell_type": "code",
   "execution_count": 30,
   "id": "86162f7d-50f5-4502-9140-4fa703c31c4e",
   "metadata": {},
   "outputs": [
    {
     "data": {
      "text/plain": [
       "0     Navas\n",
       "1    Mbappe\n",
       "2    Neymar\n",
       "3     Messi\n",
       "dtype: object"
      ]
     },
     "execution_count": 30,
     "metadata": {},
     "output_type": "execute_result"
    }
   ],
   "source": [
    "# SERIE CON INDEX POR DEFECTO\n",
    "jugadores = pd.Series(['Navas', 'Mbappe', 'Neymar', 'Messi'])\n",
    "jugadores"
   ]
  },
  {
   "cell_type": "code",
   "execution_count": 31,
   "id": "3fed6cc6-e511-4518-9284-d19102b711f9",
   "metadata": {},
   "outputs": [
    {
     "data": {
      "text/plain": [
       "1      Navas\n",
       "7     Mbappe\n",
       "10    Neymar\n",
       "30     Messi\n",
       "dtype: object"
      ]
     },
     "execution_count": 31,
     "metadata": {},
     "output_type": "execute_result"
    }
   ],
   "source": [
    "# SERIE DESDEC UN DICTIONARY\n",
    "dict = {1:'Navas', 7:'Mbappe', 10:'Neymar', 30:'Messi'}\n",
    "jugadores = pd.Series(dict)\n",
    "jugadores"
   ]
  },
  {
   "cell_type": "code",
   "execution_count": 33,
   "id": "9eb801f0-c52c-4780-8db6-7052860695e8",
   "metadata": {},
   "outputs": [
    {
     "data": {
      "text/plain": [
       "'Neymar'"
      ]
     },
     "execution_count": 33,
     "metadata": {},
     "output_type": "execute_result"
    }
   ],
   "source": [
    "# INDEXADO EN SERIES\n",
    "jugadores[10]"
   ]
  },
  {
   "cell_type": "code",
   "execution_count": 34,
   "id": "103c9ba7-8941-40b9-9c20-a0fdf7c44c58",
   "metadata": {},
   "outputs": [
    {
     "data": {
      "text/plain": [
       "7     Mbappe\n",
       "10    Neymar\n",
       "dtype: object"
      ]
     },
     "execution_count": 34,
     "metadata": {},
     "output_type": "execute_result"
    }
   ],
   "source": [
    "# SLICING EN SERIES\n",
    "jugadores[1:3]"
   ]
  },
  {
   "cell_type": "code",
   "execution_count": 38,
   "id": "a590a675-508e-4150-9fed-d327aff30d1b",
   "metadata": {},
   "outputs": [
    {
     "data": {
      "text/html": [
       "<div>\n",
       "<style scoped>\n",
       "    .dataframe tbody tr th:only-of-type {\n",
       "        vertical-align: middle;\n",
       "    }\n",
       "\n",
       "    .dataframe tbody tr th {\n",
       "        vertical-align: top;\n",
       "    }\n",
       "\n",
       "    .dataframe thead th {\n",
       "        text-align: right;\n",
       "    }\n",
       "</style>\n",
       "<table border=\"1\" class=\"dataframe\">\n",
       "  <thead>\n",
       "    <tr style=\"text-align: right;\">\n",
       "      <th></th>\n",
       "      <th>Jugadores</th>\n",
       "      <th>Altura</th>\n",
       "      <th>Goals</th>\n",
       "    </tr>\n",
       "  </thead>\n",
       "  <tbody>\n",
       "    <tr>\n",
       "      <th>0</th>\n",
       "      <td>Navas</td>\n",
       "      <td>180.0</td>\n",
       "      <td>2</td>\n",
       "    </tr>\n",
       "    <tr>\n",
       "      <th>1</th>\n",
       "      <td>Mbappe</td>\n",
       "      <td>170.0</td>\n",
       "      <td>200</td>\n",
       "    </tr>\n",
       "    <tr>\n",
       "      <th>2</th>\n",
       "      <td>Neymar</td>\n",
       "      <td>170.0</td>\n",
       "      <td>200</td>\n",
       "    </tr>\n",
       "    <tr>\n",
       "      <th>3</th>\n",
       "      <td>Messi</td>\n",
       "      <td>165.0</td>\n",
       "      <td>250</td>\n",
       "    </tr>\n",
       "  </tbody>\n",
       "</table>\n",
       "</div>"
      ],
      "text/plain": [
       "  Jugadores  Altura  Goals\n",
       "0     Navas   180.0      2\n",
       "1    Mbappe   170.0    200\n",
       "2    Neymar   170.0    200\n",
       "3     Messi   165.0    250"
      ]
     },
     "execution_count": 38,
     "metadata": {},
     "output_type": "execute_result"
    }
   ],
   "source": [
    "# DATAFRAME DESDE UN DICTIONARY CON DOS DIMENCIONES E INDIX POR DESEFECTO\n",
    "dict = {'Jugadores': ['Navas', 'Mbappe', 'Neymar', 'Messi'],\n",
    "        'Altura': [180.0, 170.0, 170.0, 165.0],\n",
    "        'Goals': [2, 200, 200, 250]}\n",
    "\n",
    "df_jugadores = pd.DataFrame(dict)\n",
    "df_jugadores"
   ]
  },
  {
   "cell_type": "code",
   "execution_count": 39,
   "id": "1795e027-7b7e-420f-a934-680e09b80667",
   "metadata": {},
   "outputs": [
    {
     "data": {
      "text/html": [
       "<div>\n",
       "<style scoped>\n",
       "    .dataframe tbody tr th:only-of-type {\n",
       "        vertical-align: middle;\n",
       "    }\n",
       "\n",
       "    .dataframe tbody tr th {\n",
       "        vertical-align: top;\n",
       "    }\n",
       "\n",
       "    .dataframe thead th {\n",
       "        text-align: right;\n",
       "    }\n",
       "</style>\n",
       "<table border=\"1\" class=\"dataframe\">\n",
       "  <thead>\n",
       "    <tr style=\"text-align: right;\">\n",
       "      <th></th>\n",
       "      <th>Jugadores</th>\n",
       "      <th>Altura</th>\n",
       "      <th>Goals</th>\n",
       "    </tr>\n",
       "  </thead>\n",
       "  <tbody>\n",
       "    <tr>\n",
       "      <th>1</th>\n",
       "      <td>Navas</td>\n",
       "      <td>180.0</td>\n",
       "      <td>2</td>\n",
       "    </tr>\n",
       "    <tr>\n",
       "      <th>7</th>\n",
       "      <td>Mbappe</td>\n",
       "      <td>170.0</td>\n",
       "      <td>200</td>\n",
       "    </tr>\n",
       "    <tr>\n",
       "      <th>10</th>\n",
       "      <td>Neymar</td>\n",
       "      <td>170.0</td>\n",
       "      <td>200</td>\n",
       "    </tr>\n",
       "    <tr>\n",
       "      <th>30</th>\n",
       "      <td>Messi</td>\n",
       "      <td>165.0</td>\n",
       "      <td>250</td>\n",
       "    </tr>\n",
       "  </tbody>\n",
       "</table>\n",
       "</div>"
      ],
      "text/plain": [
       "   Jugadores  Altura  Goals\n",
       "1      Navas   180.0      2\n",
       "7     Mbappe   170.0    200\n",
       "10    Neymar   170.0    200\n",
       "30     Messi   165.0    250"
      ]
     },
     "execution_count": 39,
     "metadata": {},
     "output_type": "execute_result"
    }
   ],
   "source": [
    "# DATAFRAME DESDE DICT CON INDEX ESTABLECIDO\n",
    "df_jugadores = pd.DataFrame(dict, index=[1, 7, 10, 30])\n",
    "df_jugadores"
   ]
  },
  {
   "cell_type": "code",
   "execution_count": 41,
   "id": "71035e3e-65ab-4c49-b539-581e14ff9711",
   "metadata": {},
   "outputs": [
    {
     "data": {
      "text/plain": [
       "Index(['Jugadores', 'Altura', 'Goals'], dtype='object')"
      ]
     },
     "execution_count": 41,
     "metadata": {},
     "output_type": "execute_result"
    }
   ],
   "source": [
    "# LISTADO DE LOS INDICES POR COLUMNAS\n",
    "df_jugadores.columns"
   ]
  },
  {
   "cell_type": "code",
   "execution_count": 42,
   "id": "8f05fd45-40be-42a7-9e16-cff4cd2bafb3",
   "metadata": {},
   "outputs": [
    {
     "data": {
      "text/plain": [
       "Int64Index([1, 7, 10, 30], dtype='int64')"
      ]
     },
     "execution_count": 42,
     "metadata": {},
     "output_type": "execute_result"
    }
   ],
   "source": [
    "# LISTADO DE LOS INDICES POR FILLAS\n",
    "df_jugadores.index"
   ]
  }
 ],
 "metadata": {
  "kernelspec": {
   "display_name": "Python 3 (ipykernel)",
   "language": "python",
   "name": "python3"
  },
  "language_info": {
   "codemirror_mode": {
    "name": "ipython",
    "version": 3
   },
   "file_extension": ".py",
   "mimetype": "text/x-python",
   "name": "python",
   "nbconvert_exporter": "python",
   "pygments_lexer": "ipython3",
   "version": "3.9.5"
  }
 },
 "nbformat": 4,
 "nbformat_minor": 5
}
