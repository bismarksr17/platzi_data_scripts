{
 "cells": [
  {
   "cell_type": "code",
   "execution_count": 1,
   "id": "c2455c64-f55b-43b8-bc08-e5664acd7f29",
   "metadata": {},
   "outputs": [],
   "source": [
    "import numpy as np"
   ]
  },
  {
   "cell_type": "code",
   "execution_count": 15,
   "id": "f925db10-bc09-427d-8e84-2039c362b90e",
   "metadata": {},
   "outputs": [
    {
     "name": "stdout",
     "output_type": "stream",
     "text": [
      "42\n",
      "Dimencion:  0\n"
     ]
    }
   ],
   "source": [
    "# VALOR ESCALAR, SIN DIMENCIONES\n",
    "scalar = np.array(42)\n",
    "print(scalar)\n",
    "print('Dimencion: ', scalar.ndim)"
   ]
  },
  {
   "cell_type": "code",
   "execution_count": 37,
   "id": "b747fff9-9f10-4685-9e3e-2b306d8608ac",
   "metadata": {},
   "outputs": [
    {
     "name": "stdout",
     "output_type": "stream",
     "text": [
      "[1 2 3]\n",
      "Dimencion:  1\n"
     ]
    }
   ],
   "source": [
    "# DOS DIMENCIONES\n",
    "vector = np.array([1, 2, 3])\n",
    "print(vector)\n",
    "print('Dimencion: ', vector.ndim)"
   ]
  },
  {
   "cell_type": "code",
   "execution_count": 38,
   "id": "5d6efc3f-2a41-4f3b-86ed-a3fd66e53bf0",
   "metadata": {},
   "outputs": [
    {
     "name": "stdout",
     "output_type": "stream",
     "text": [
      "[[[ 1  2  3]\n",
      "  [ 4  5  6]\n",
      "  [ 7  8  9]]\n",
      "\n",
      " [[10 11 12]\n",
      "  [13 14 15]\n",
      "  [16 17 18]]]\n",
      "Dimencion:  3\n"
     ]
    }
   ],
   "source": [
    "# TRES O MAS DIMENCIONES\n",
    "tensor = np.array([[[1, 2, 3], [4, 5, 6], [7, 8, 9]], [[10, 11, 12], [13, 14, 15], [16, 17, 18]]])\n",
    "print(tensor)\n",
    "print('Dimencion: ', tensor.ndim)"
   ]
  },
  {
   "cell_type": "markdown",
   "id": "06c78c03-a262-4e96-9e79-b2fbfc8e7562",
   "metadata": {},
   "source": [
    "## AGREGAR O ELIMINAR DIMENCIONES"
   ]
  },
  {
   "cell_type": "code",
   "execution_count": 62,
   "id": "927a3a62-dfbe-4f8e-9a1c-7b7fde4342ea",
   "metadata": {},
   "outputs": [
    {
     "name": "stdout",
     "output_type": "stream",
     "text": [
      "[[[1 2 3]]]\n"
     ]
    },
    {
     "data": {
      "text/plain": [
       "3"
      ]
     },
     "execution_count": 62,
     "metadata": {},
     "output_type": "execute_result"
    }
   ],
   "source": [
    "# AGREGAR DIMENCIONES AL MOMENTO DE CREAR ARRAYS\n",
    "# SE ESTA CREANDO UN ARRAY CON 3 DIMENCIONES\n",
    "vector = np.array([1, 2, 3], ndmin=3)\n",
    "print(vector)\n",
    "vector.ndim"
   ]
  },
  {
   "cell_type": "code",
   "execution_count": 64,
   "id": "3d9419ca-320f-4e97-a3b0-1380954039da",
   "metadata": {},
   "outputs": [
    {
     "name": "stdout",
     "output_type": "stream",
     "text": [
      "[[1 2 3]]\n"
     ]
    },
    {
     "data": {
      "text/plain": [
       "2"
      ]
     },
     "execution_count": 64,
     "metadata": {},
     "output_type": "execute_result"
    }
   ],
   "source": [
    "# EXPANDE LA DIMENCION DE UN ARRAY\n",
    "# EN ESTE CASO, EN FILAS (0 = FILA, 1 = COLUMNA)\n",
    "expand = np.expand_dims(np.array([1,2,3]), axis=0)\n",
    "print(expand)\n",
    "expand.ndim"
   ]
  },
  {
   "cell_type": "code",
   "execution_count": 66,
   "id": "e74b9d8f-a560-427b-8ece-cdf1f23e71d3",
   "metadata": {},
   "outputs": [
    {
     "name": "stdout",
     "output_type": "stream",
     "text": [
      "[1 2 3]\n"
     ]
    },
    {
     "data": {
      "text/plain": [
       "1"
      ]
     },
     "execution_count": 66,
     "metadata": {},
     "output_type": "execute_result"
    }
   ],
   "source": [
    "# SQUEEZE ES UTIL PARA ELIMINAR O CONTRILAR LAS DIMENCIONES \n",
    "# SE COMPRIME AL NUMERO DE DIMENCIONES CORRECTO QUE SE ESTA USANDO\n",
    "vector_2 = np.squeeze(vector)\n",
    "print(vector_2)\n",
    "vector_2.ndim"
   ]
  },
  {
   "cell_type": "code",
   "execution_count": null,
   "id": "84f52adf-95d4-4804-b5b0-529868a20db8",
   "metadata": {},
   "outputs": [],
   "source": []
  },
  {
   "cell_type": "code",
   "execution_count": null,
   "id": "65922bf7-061a-4781-95ec-a555996009f1",
   "metadata": {},
   "outputs": [],
   "source": []
  },
  {
   "cell_type": "code",
   "execution_count": 76,
   "id": "f4c5e446-52d9-4e2e-b017-eec67484517c",
   "metadata": {},
   "outputs": [
    {
     "name": "stdout",
     "output_type": "stream",
     "text": [
      "Dimenciones:  5\n"
     ]
    },
    {
     "data": {
      "text/plain": [
       "array([[[[[10, 11],\n",
       "          [12, 13]],\n",
       "\n",
       "         [[14, 15],\n",
       "          [16, 17]]],\n",
       "\n",
       "\n",
       "        [[[18, 19],\n",
       "          [20, 21]],\n",
       "\n",
       "         [[22, 23],\n",
       "          [24, 25]]]],\n",
       "\n",
       "\n",
       "\n",
       "       [[[[26, 27],\n",
       "          [28, 29]],\n",
       "\n",
       "         [[30, 31],\n",
       "          [32, 33]]],\n",
       "\n",
       "\n",
       "        [[[34, 35],\n",
       "          [36, 37]],\n",
       "\n",
       "         [[38, 39],\n",
       "          [40, 41]]]]])"
      ]
     },
     "execution_count": 76,
     "metadata": {},
     "output_type": "execute_result"
    }
   ],
   "source": [
    "cinco_dim = np.array([[[[[10,11], [12,13]],[[14,15], [16,17]]], [[[18,19], [20,21]],[[22,23], [24,25]]]], [[[[26,27], [28,29]],[[30,31], [32,33]]], [[[34,35], [36,37]],[[38,39], [40,41]]]]])\n",
    "print('Dimenciones: ', cinco_dim.ndim)\n",
    "cinco_dim"
   ]
  },
  {
   "cell_type": "code",
   "execution_count": null,
   "id": "489346fa-63eb-4206-b90d-72abae5adb33",
   "metadata": {},
   "outputs": [],
   "source": []
  }
 ],
 "metadata": {
  "kernelspec": {
   "display_name": "Python 3 (ipykernel)",
   "language": "python",
   "name": "python3"
  },
  "language_info": {
   "codemirror_mode": {
    "name": "ipython",
    "version": 3
   },
   "file_extension": ".py",
   "mimetype": "text/x-python",
   "name": "python",
   "nbconvert_exporter": "python",
   "pygments_lexer": "ipython3",
   "version": "3.10.4"
  }
 },
 "nbformat": 4,
 "nbformat_minor": 5
}
